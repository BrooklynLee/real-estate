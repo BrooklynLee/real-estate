{
 "cells": [
  {
   "cell_type": "code",
   "execution_count": 1,
   "metadata": {},
   "outputs": [],
   "source": [
    "import requests\n",
    "\n",
    "url = \"http://openapi.molit.go.kr/OpenAPI_ToolInstallPackage/service/rest/RTMSOBJSvc/getRTMSDataSvcAptTradeDev\"\n",
    "\n",
    "querystring = {\"pageNo\":\"1\",\"startPage\":\"1\",\"numOfRows\":\"10\",\"pageSize\":\"10\",\"LAWD_CD\":\"11110\",\"DEAL_YMD\":\"201512\",\"type\":\"json\", \"serviceKey\":\"vp5RvL5ncgGVGqhnbaNFu5DePN1bHRd+E3DNYN2WdueSS6y9rS1RDLi45r0tqc7BIDJvsEZaUMhYxOk+dcdRdA==\"}\n",
    "\n",
    "headers = {\n",
    "    'cache-control': \"no-cache\",\n",
    "    'postman-token': \"e8d4c5d9-9287-549d-b5bc-9cdd60e76e1d\"\n",
    "    }\n",
    "\n",
    "response = requests.request(\"GET\", url, headers=headers, params=querystring)## "
   ]
  },
  {
   "cell_type": "code",
   "execution_count": 2,
   "metadata": {},
   "outputs": [],
   "source": [
    "import xml.etree.ElementTree as ET"
   ]
  },
  {
   "cell_type": "code",
   "execution_count": 3,
   "metadata": {},
   "outputs": [],
   "source": [
    "data_as_string = \"\"\"\n",
    "<item><거래금액>    82,500\n",
    "            </거래금액><건축년도>2008\n",
    "        </건축년도><년>2015\n",
    "    </년><도로명>사직로8길\n",
    "</도로명><도로명건물본번호코드>00004\n",
    "</도로명건물본번호코드><도로명건물부번호코드>00000\n",
    "</도로명건물부번호코드><도로명시군구코드>11110\n",
    "</도로명시군구코드><도로명일련번호코드>03\n",
    "</도로명일련번호코드><도로명지상지하코드>0\n",
    "</도로명지상지하코드><도로명코드>4100135\n",
    "</도로명코드><법정동> 사직동\n",
    "</법정동><법정동본번코드>0009\n",
    "</법정동본번코드><법정동부번코드>0000\n",
    "</법정동부번코드><법정동시군구코드>11110\n",
    "</법정동시군구코드><법정동읍면동코드>11500\n",
    "</법정동읍면동코드><법정동지번코드>1\n",
    "</법정동지번코드><아파트>광화문풍림스페이스본(9-0)\n",
    "</아파트><월>12\n",
    "</월><일>1~10\n",
    "</일><일련번호>11110-2203\n",
    "</일련번호><전용면적>94.51\n",
    "</전용면적><지번>9\n",
    "</지번><지역코드>11110\n",
    "</지역코드><층>11\n",
    "</층>\n",
    "</item>\n",
    "\"\"\""
   ]
  },
  {
   "cell_type": "code",
   "execution_count": 5,
   "metadata": {},
   "outputs": [],
   "source": [
    "root = ET.fromstring(response.content)"
   ]
  },
  {
   "cell_type": "code",
   "execution_count": 6,
   "metadata": {},
   "outputs": [
    {
     "data": {
      "text/plain": [
       "'response'"
      ]
     },
     "execution_count": 6,
     "metadata": {},
     "output_type": "execute_result"
    }
   ],
   "source": [
    "root.tag"
   ]
  },
  {
   "cell_type": "code",
   "execution_count": 8,
   "metadata": {},
   "outputs": [
    {
     "name": "stdout",
     "output_type": "stream",
     "text": [
      "header {}\n",
      "body {}\n"
     ]
    }
   ],
   "source": [
    "for child in root:\n",
    "    print (child.tag, child.attrib)"
   ]
  },
  {
   "cell_type": "code",
   "execution_count": 10,
   "metadata": {},
   "outputs": [
    {
     "name": "stdout",
     "output_type": "stream",
     "text": [
      "items\n",
      "numOfRows\n",
      "pageNo\n",
      "totalCount\n"
     ]
    }
   ],
   "source": [
    "for child in root.find('body'):\n",
    "    print (child.tag)"
   ]
  },
  {
   "cell_type": "code",
   "execution_count": 11,
   "metadata": {},
   "outputs": [],
   "source": [
    "item_list = []\n",
    "for child in root.find('body').find('items'):\n",
    "    elements = child.findall('*')\n",
    "    data = {}\n",
    "    for element in elements:\n",
    "        tag = element.tag.strip()\n",
    "        text = element.text.strip()\n",
    "        # print tag, text\n",
    "        data[tag] = text\n",
    "    item_list.append(data)    "
   ]
  },
  {
   "cell_type": "code",
   "execution_count": 12,
   "metadata": {},
   "outputs": [
    {
     "name": "stdout",
     "output_type": "stream",
     "text": [
      "거래금액 82,500\n",
      "건축년도 2008\n",
      "년 2015\n",
      "도로명 사직로8길\n",
      "도로명건물본번호코드 00004\n",
      "도로명건물부번호코드 00000\n",
      "도로명시군구코드 11110\n",
      "도로명일련번호코드 03\n",
      "도로명지상지하코드 0\n",
      "도로명코드 4100135\n",
      "법정동 사직동\n",
      "법정동본번코드 0009\n",
      "법정동부번코드 0000\n",
      "법정동시군구코드 11110\n",
      "법정동읍면동코드 11500\n",
      "법정동지번코드 1\n",
      "아파트 광화문풍림스페이스본(101동~105동)\n",
      "월 12\n",
      "일 10\n",
      "일련번호 11110-2203\n",
      "전용면적 94.51\n",
      "지번 9\n",
      "지역코드 11110\n",
      "층 11\n"
     ]
    }
   ],
   "source": [
    "for item in item_list:\n",
    "    for k, v in item.items():\n",
    "        print (k, v)\n",
    "    break"
   ]
  },
  {
   "cell_type": "code",
   "execution_count": null,
   "metadata": {},
   "outputs": [],
   "source": []
  }
 ],
 "metadata": {
  "kernelspec": {
   "display_name": "Python 3",
   "language": "python",
   "name": "python3"
  },
  "language_info": {
   "codemirror_mode": {
    "name": "ipython",
    "version": 3
   },
   "file_extension": ".py",
   "mimetype": "text/x-python",
   "name": "python",
   "nbconvert_exporter": "python",
   "pygments_lexer": "ipython3",
   "version": "3.6.7"
  }
 },
 "nbformat": 4,
 "nbformat_minor": 2
}
