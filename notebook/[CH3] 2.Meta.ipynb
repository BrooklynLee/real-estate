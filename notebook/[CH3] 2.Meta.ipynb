{
 "cells": [
  {
   "cell_type": "markdown",
   "metadata": {},
   "source": [
    "# Meta\n",
    "\n",
    "아래 meta 데이터는 부동산에서 지역명(ex: 서울특별시 종로구 덕수궁길)을 명시해주지 않고, 지역코드, 또는 법정동코드로 명시해줘서 조인해서 사용을 해야한다.\n",
    "\n",
    "* 지역코드 (rcode.csv)\n",
    "  * 아래 법정동 코드에서 앞에서 5자리는 지역코드\n",
    "* 법정동코드 전체자료\n",
    "  * 법정동 코드 \n",
    "  * https://www.code.go.kr/ 행정표준코드 관리시스템\n",
    "    * 상단의 코드검색을 선택하고, 분류별 탭에서 공통>법정동을 선택\n",
    "    * https://nbviewer.jupyter.org/urls/financedata.github.io/posts/korea-area-code.ipynb"
   ]
  },
  {
   "cell_type": "code",
   "execution_count": 10,
   "metadata": {},
   "outputs": [],
   "source": [
    "import sys\n",
    "import pandas as pd\n",
    "sys.path.append('../src') \n",
    "from util import get_rcode_df\n",
    "from util import read_csv"
   ]
  },
  {
   "cell_type": "markdown",
   "metadata": {},
   "source": [
    "# 지역코드 RCode"
   ]
  },
  {
   "cell_type": "code",
   "execution_count": 11,
   "metadata": {},
   "outputs": [],
   "source": [
    "rcode_df = get_rcode_df('../data/road_code.csv')"
   ]
  },
  {
   "cell_type": "code",
   "execution_count": 12,
   "metadata": {},
   "outputs": [
    {
     "data": {
      "text/html": [
       "<div>\n",
       "<style scoped>\n",
       "    .dataframe tbody tr th:only-of-type {\n",
       "        vertical-align: middle;\n",
       "    }\n",
       "\n",
       "    .dataframe tbody tr th {\n",
       "        vertical-align: top;\n",
       "    }\n",
       "\n",
       "    .dataframe thead th {\n",
       "        text-align: right;\n",
       "    }\n",
       "</style>\n",
       "<table border=\"1\" class=\"dataframe\">\n",
       "  <thead>\n",
       "    <tr style=\"text-align: right;\">\n",
       "      <th></th>\n",
       "      <th>0</th>\n",
       "      <th>1</th>\n",
       "      <th>2</th>\n",
       "    </tr>\n",
       "  </thead>\n",
       "  <tbody>\n",
       "    <tr>\n",
       "      <th>11110</th>\n",
       "      <td>서울특별시</td>\n",
       "      <td>종로구</td>\n",
       "      <td>덕수궁길</td>\n",
       "    </tr>\n",
       "    <tr>\n",
       "      <th>11140</th>\n",
       "      <td>서울특별시</td>\n",
       "      <td>중구</td>\n",
       "      <td>환일길</td>\n",
       "    </tr>\n",
       "    <tr>\n",
       "      <th>11170</th>\n",
       "      <td>서울특별시</td>\n",
       "      <td>용산구</td>\n",
       "      <td>이촌로51길</td>\n",
       "    </tr>\n",
       "    <tr>\n",
       "      <th>11200</th>\n",
       "      <td>서울특별시</td>\n",
       "      <td>성동구</td>\n",
       "      <td>마장로40길</td>\n",
       "    </tr>\n",
       "    <tr>\n",
       "      <th>11215</th>\n",
       "      <td>서울특별시</td>\n",
       "      <td>광진구</td>\n",
       "      <td>천호대로145길</td>\n",
       "    </tr>\n",
       "    <tr>\n",
       "      <th>11230</th>\n",
       "      <td>서울특별시</td>\n",
       "      <td>동대문구</td>\n",
       "      <td>답십리로58길</td>\n",
       "    </tr>\n",
       "    <tr>\n",
       "      <th>11260</th>\n",
       "      <td>서울특별시</td>\n",
       "      <td>중랑구</td>\n",
       "      <td>신내역로3길</td>\n",
       "    </tr>\n",
       "    <tr>\n",
       "      <th>11290</th>\n",
       "      <td>서울특별시</td>\n",
       "      <td>성북구</td>\n",
       "      <td>오패산로16가길</td>\n",
       "    </tr>\n",
       "    <tr>\n",
       "      <th>11305</th>\n",
       "      <td>서울특별시</td>\n",
       "      <td>강북구</td>\n",
       "      <td>4.19로29길</td>\n",
       "    </tr>\n",
       "    <tr>\n",
       "      <th>11320</th>\n",
       "      <td>서울특별시</td>\n",
       "      <td>도봉구</td>\n",
       "      <td>우이천로2길</td>\n",
       "    </tr>\n",
       "  </tbody>\n",
       "</table>\n",
       "</div>"
      ],
      "text/plain": [
       "           0     1         2\n",
       "11110  서울특별시   종로구      덕수궁길\n",
       "11140  서울특별시    중구       환일길\n",
       "11170  서울특별시   용산구    이촌로51길\n",
       "11200  서울특별시   성동구    마장로40길\n",
       "11215  서울특별시   광진구  천호대로145길\n",
       "11230  서울특별시  동대문구   답십리로58길\n",
       "11260  서울특별시   중랑구    신내역로3길\n",
       "11290  서울특별시   성북구  오패산로16가길\n",
       "11305  서울특별시   강북구  4.19로29길\n",
       "11320  서울특별시   도봉구    우이천로2길"
      ]
     },
     "execution_count": 12,
     "metadata": {},
     "output_type": "execute_result"
    }
   ],
   "source": [
    "rcode_df.head(10)"
   ]
  },
  {
   "cell_type": "code",
   "execution_count": 17,
   "metadata": {},
   "outputs": [
    {
     "data": {
      "text/plain": [
       "Index(['11110', '11140', '11170', '11200', '11215', '11230', '11260', '11290',\n",
       "       '11305', '11320', '11350', '11380', '11410', '11440', '11470', '11500',\n",
       "       '11530', '11545', '11560', '11590', '11620', '11650', '11680', '11710',\n",
       "       '11740', '41111', '41113', '41115', '41117', '41131', '41133', '41135',\n",
       "       '41150', '41171', '41173', '41190', '41210', '41220', '41250', '41271',\n",
       "       '41273', '41281', '41285', '41287', '41290', '41310', '41360', '41370',\n",
       "       '41390', '41410', '41430', '41450', '41461', '41463', '41465', '41480',\n",
       "       '41500', '41550', '41570', '41590', '41610', '41630', '41650', '41670',\n",
       "       '41800', '41820', '41830'],\n",
       "      dtype='object')"
      ]
     },
     "execution_count": 17,
     "metadata": {},
     "output_type": "execute_result"
    }
   ],
   "source": [
    "rcode_df[(rcode_df[0] == '서울특별시') | (rcode_df[0] == '경기도')].index"
   ]
  },
  {
   "cell_type": "markdown",
   "metadata": {},
   "source": [
    "# 법정동코드 전체자료"
   ]
  },
  {
   "cell_type": "code",
   "execution_count": 4,
   "metadata": {},
   "outputs": [],
   "source": [
    "# download areacode.csv \n",
    "def download_areacode():\n",
    "    df_areacode = pd.read_csv('https://goo.gl/tM6r3v', sep='\\t', dtype={'법정동코드':str})\n",
    "    df_areacode = df_areacode[df_areacode['폐지여부'] == '존재']\n",
    "    df_areacode.to_csv(\"../data/areacode.csv\")"
   ]
  },
  {
   "cell_type": "code",
   "execution_count": 5,
   "metadata": {},
   "outputs": [],
   "source": [
    "df = read_csv('../data/areacode.csv')"
   ]
  },
  {
   "cell_type": "code",
   "execution_count": 6,
   "metadata": {},
   "outputs": [
    {
     "data": {
      "text/html": [
       "<div>\n",
       "<style scoped>\n",
       "    .dataframe tbody tr th:only-of-type {\n",
       "        vertical-align: middle;\n",
       "    }\n",
       "\n",
       "    .dataframe tbody tr th {\n",
       "        vertical-align: top;\n",
       "    }\n",
       "\n",
       "    .dataframe thead th {\n",
       "        text-align: right;\n",
       "    }\n",
       "</style>\n",
       "<table border=\"1\" class=\"dataframe\">\n",
       "  <thead>\n",
       "    <tr style=\"text-align: right;\">\n",
       "      <th></th>\n",
       "      <th>Unnamed: 0</th>\n",
       "      <th>법정동코드</th>\n",
       "      <th>법정동명</th>\n",
       "      <th>폐지여부</th>\n",
       "    </tr>\n",
       "  </thead>\n",
       "  <tbody>\n",
       "    <tr>\n",
       "      <th>0</th>\n",
       "      <td>0</td>\n",
       "      <td>1100000000</td>\n",
       "      <td>서울특별시</td>\n",
       "      <td>존재</td>\n",
       "    </tr>\n",
       "    <tr>\n",
       "      <th>1</th>\n",
       "      <td>1</td>\n",
       "      <td>1111000000</td>\n",
       "      <td>서울특별시 종로구</td>\n",
       "      <td>존재</td>\n",
       "    </tr>\n",
       "    <tr>\n",
       "      <th>2</th>\n",
       "      <td>2</td>\n",
       "      <td>1111010100</td>\n",
       "      <td>서울특별시 종로구 청운동</td>\n",
       "      <td>존재</td>\n",
       "    </tr>\n",
       "    <tr>\n",
       "      <th>3</th>\n",
       "      <td>3</td>\n",
       "      <td>1111010200</td>\n",
       "      <td>서울특별시 종로구 신교동</td>\n",
       "      <td>존재</td>\n",
       "    </tr>\n",
       "    <tr>\n",
       "      <th>4</th>\n",
       "      <td>4</td>\n",
       "      <td>1111010300</td>\n",
       "      <td>서울특별시 종로구 궁정동</td>\n",
       "      <td>존재</td>\n",
       "    </tr>\n",
       "    <tr>\n",
       "      <th>5</th>\n",
       "      <td>5</td>\n",
       "      <td>1111010400</td>\n",
       "      <td>서울특별시 종로구 효자동</td>\n",
       "      <td>존재</td>\n",
       "    </tr>\n",
       "    <tr>\n",
       "      <th>6</th>\n",
       "      <td>6</td>\n",
       "      <td>1111010500</td>\n",
       "      <td>서울특별시 종로구 창성동</td>\n",
       "      <td>존재</td>\n",
       "    </tr>\n",
       "    <tr>\n",
       "      <th>7</th>\n",
       "      <td>7</td>\n",
       "      <td>1111010600</td>\n",
       "      <td>서울특별시 종로구 통의동</td>\n",
       "      <td>존재</td>\n",
       "    </tr>\n",
       "    <tr>\n",
       "      <th>8</th>\n",
       "      <td>8</td>\n",
       "      <td>1111010700</td>\n",
       "      <td>서울특별시 종로구 적선동</td>\n",
       "      <td>존재</td>\n",
       "    </tr>\n",
       "    <tr>\n",
       "      <th>9</th>\n",
       "      <td>9</td>\n",
       "      <td>1111010800</td>\n",
       "      <td>서울특별시 종로구 통인동</td>\n",
       "      <td>존재</td>\n",
       "    </tr>\n",
       "  </tbody>\n",
       "</table>\n",
       "</div>"
      ],
      "text/plain": [
       "   Unnamed: 0       법정동코드           법정동명 폐지여부\n",
       "0           0  1100000000          서울특별시   존재\n",
       "1           1  1111000000      서울특별시 종로구   존재\n",
       "2           2  1111010100  서울특별시 종로구 청운동   존재\n",
       "3           3  1111010200  서울특별시 종로구 신교동   존재\n",
       "4           4  1111010300  서울특별시 종로구 궁정동   존재\n",
       "5           5  1111010400  서울특별시 종로구 효자동   존재\n",
       "6           6  1111010500  서울특별시 종로구 창성동   존재\n",
       "7           7  1111010600  서울특별시 종로구 통의동   존재\n",
       "8           8  1111010700  서울특별시 종로구 적선동   존재\n",
       "9           9  1111010800  서울특별시 종로구 통인동   존재"
      ]
     },
     "execution_count": 6,
     "metadata": {},
     "output_type": "execute_result"
    }
   ],
   "source": [
    "df.head(10)"
   ]
  },
  {
   "cell_type": "code",
   "execution_count": null,
   "metadata": {},
   "outputs": [],
   "source": []
  }
 ],
 "metadata": {
  "kernelspec": {
   "display_name": "Python 3",
   "language": "python",
   "name": "python3"
  },
  "language_info": {
   "codemirror_mode": {
    "name": "ipython",
    "version": 3
   },
   "file_extension": ".py",
   "mimetype": "text/x-python",
   "name": "python",
   "nbconvert_exporter": "python",
   "pygments_lexer": "ipython3",
   "version": "3.6.7"
  }
 },
 "nbformat": 4,
 "nbformat_minor": 2
}
