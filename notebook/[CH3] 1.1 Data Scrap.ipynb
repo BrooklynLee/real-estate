{
 "cells": [
  {
   "cell_type": "code",
   "execution_count": null,
   "metadata": {},
   "outputs": [],
   "source": [
    "https://m.land.naver.com/map/37.3812155:127.127662:9:4113510500/APT/A1:B1#mapFullList"
   ]
  },
  {
   "cell_type": "code",
   "execution_count": null,
   "metadata": {},
   "outputs": [],
   "source": [
    "https://m.land.naver.com/cluster/ajax/articleList?rletTpCd=APT&tradTpCd=A1%3AB1&z=9&lat=37.3812155&lon=127.127662&btm=37.3493285&lft=127.0803532&top=37.4130836&rgt=127.175011&showR0=&totCnt=1020&cortarNo=4113510500"
   ]
  },
  {
   "cell_type": "code",
   "execution_count": null,
   "metadata": {},
   "outputs": [],
   "source": [
    "http://land.naver.com/article/articleList.nhn?rletTypeCd=A01&tradeTypeCd=all&hscpTypeCd=A01:A03:A04&cortarNo=41465"
   ]
  },
  {
   "cell_type": "code",
   "execution_count": null,
   "metadata": {},
   "outputs": [],
   "source": [
    "https://m.land.naver.com/complex/getComplexArticleList?hscpNo=19204&tradTpCd=A1&order=point_&showR0=N&page=1"
   ]
  },
  {
   "cell_type": "code",
   "execution_count": null,
   "metadata": {},
   "outputs": [],
   "source": [
    "https://m.land.naver.com/complex/getComplexArticleList?hscpNo=19204&tradTpCd=A1&order=point_&showR0=N&page=1"
   ]
  },
  {
   "cell_type": "code",
   "execution_count": null,
   "metadata": {},
   "outputs": [],
   "source": [
    "https://m.land.naver.com/complex/getComplexArticleList?hscpNo=41465&tradTpCd=A1&order=point_&showR0=N&page=1"
   ]
  },
  {
   "cell_type": "code",
   "execution_count": null,
   "metadata": {},
   "outputs": [],
   "source": [
    "https://m.land.naver.com/complex/getComplexArticleList?hscpNo=41465&tradTpCd=A1&order=point_&showR0=N&page=1"
   ]
  },
  {
   "cell_type": "markdown",
   "metadata": {},
   "source": [
    "```\n",
    "rletTypeCd: A01=아파트, A02=오피스텔, B01=분양권, 주택=C03, 토지=E03, 원룸=C01, 상가=D02, 사무실=D01, 공장=E02, 재개발=F01, 건물=D03\n",
    "tradeTypeCd (거래종류): all=전체, A1=매매, B1=전세, B2=월세, B3=단기임대\n",
    "hscpTypeCd (매물종류): 아파트=A01, 주상복합=A03, 재건축=A04 (복수 선택 가능)\n",
    "cortarNo(법정동코드): (예: 1168010600 서울시, 강남구, 대치동)\n",
    "```"
   ]
  },
  {
   "cell_type": "code",
   "execution_count": null,
   "metadata": {},
   "outputs": [],
   "source": [
    "import requests\n",
    "\n",
    "url = \"https://m.land.naver.com/cluster/ajax/articleList\"\n",
    "\n",
    "querystring = {\"rletTpCd\":\"APT\",\"tradTpCd\":\"A1%3AB1\",\"z\":\"9\",\"lat\":\"37.3812155\",\"lon\":\"127.127662\",\"btm\":\"37.3493285\",\"lft\":\"127.0803532\",\"top\":\"37.4130836\",\"rgt\":\"127.175011\",\"showR0\":\"\",\"totCnt\":\"1020\",\"cortarNo\":\"4113510500\"}\n",
    "\n",
    "headers = {\n",
    "    'User-Agent': \"PostmanRuntime/7.13.0\",\n",
    "    'Accept': \"*/*\",\n",
    "    'Cache-Control': \"no-cache\",\n",
    "    'Postman-Token': \"07607a64-420a-47b5-919b-9126e891871f,97f58641-3721-4233-b04f-47b26085a9b0\",\n",
    "    'Host': \"m.land.naver.com\",\n",
    "    'cookie': \"nhn.realestate.article.rlet_type_cd=A01; nhn.realestate.article.trade_type_cd=\"\"\",\n",
    "    'accept-encoding': \"gzip, deflate\",\n",
    "    'Connection': \"keep-alive\",\n",
    "    'cache-control': \"no-cache\"\n",
    "    }\n",
    "\n",
    "response = requests.request(\"GET\", url, headers=headers, params=querystring)\n",
    "\n",
    "# print(response.text)"
   ]
  },
  {
   "cell_type": "code",
   "execution_count": null,
   "metadata": {},
   "outputs": [],
   "source": [
    "response.text"
   ]
  },
  {
   "cell_type": "code",
   "execution_count": null,
   "metadata": {},
   "outputs": [],
   "source": [
    "import requests\n",
    "\n",
    "url = \"https://m.land.naver.com/cluster/ajax/articleList\"\n",
    "\n",
    "querystring = {\"rletTpCd\":\"APT\",\"tradTpCd\":\"B1\",\"z\":\"9\",\"lat\":\"37.381382\",\"lon\":\"127.1348\",\"btm\":\"37.3494978\",\"lft\":\"127.087488\",\"top\":\"37.4132473\",\"rgt\":\"127.1821521\",\"showR0\":\"\",\"totCnt\":\"525\",\"cortarNo\":\"4113510500\"}\n",
    "\n",
    "headers = {\n",
    "    'User-Agent': \"PostmanRuntime/7.13.0\",\n",
    "    'Accept': \"*/*\",\n",
    "    'Cache-Control': \"no-cache\",\n",
    "    'Postman-Token': \"de2a58b8-fae4-4592-9cf1-839d8b8df889,e3e65143-322f-4f3b-99bf-5c5ce57fca7e\",\n",
    "    'Host': \"m.land.naver.com\",\n",
    "    'cookie': \"nhn.realestate.article.rlet_type_cd=A01; nhn.realestate.article.trade_type_cd=\"\"\",\n",
    "    'accept-encoding': \"gzip, deflate\",\n",
    "    'Connection': \"keep-alive\",\n",
    "    'cache-control': \"no-cache\"\n",
    "    }\n",
    "\n",
    "response = requests.request(\"GET\", url, headers=headers, params=querystring)\n",
    "\n",
    "# print(response.text)"
   ]
  },
  {
   "cell_type": "code",
   "execution_count": null,
   "metadata": {},
   "outputs": [],
   "source": [
    "import json\n",
    "import pandas as pd \n",
    "\n",
    "data = json.loads(response.text)\n",
    "df = pd.DataFrame.from_dict(data['body'])\n",
    "len(df)"
   ]
  },
  {
   "cell_type": "markdown",
   "metadata": {},
   "source": [
    "# Pagination"
   ]
  },
  {
   "cell_type": "markdown",
   "metadata": {},
   "source": [
    "지역으로 검색\n",
    "\n",
    "* vrfcTpCd\n",
    "  * 현장, 집주인\n",
    "* 마지막 페이지\n",
    "  * https://m.land.naver.com/cluster/ajax/articleList?itemId=2120313332&mapKey=&lgeo=2120313332&rletTpCd=APT&tradTpCd=B1&z=9&lat=37.381382&lon=127.1348&btm=37.3494978&lft=127.087488&top=37.4132473&rgt=127.1821521&cortarNo=4113510500&showR0="
   ]
  },
  {
   "cell_type": "code",
   "execution_count": null,
   "metadata": {},
   "outputs": [],
   "source": [
    "import requests\n",
    "\n",
    "url = \"https://m.land.naver.com/cluster/ajax/articleList\"\n",
    "\n",
    "querystring = {\"itemId\":\"\",\"mapKey\":\"\",\"lgeo\":\"\",\"showR0\":\"\",\"rletTpCd\":\"APT\",\"tradTpCd\":\"B1\",\"z\":\"9\",\"lat\":\"37.381382\",\"lon\":\"127.1348\",\"btm\":\"37.3494978\",\"lft\":\"127.087488\",\"top\":\"37.4132473\",\"rgt\":\"127.1821521\",\"totCnt\":\"525\",\"cortarNo\":\"4113510500\",\"sort\":\"rank\",\"page\":\"1\"}\n",
    "\n",
    "headers = {\n",
    "    'User-Agent': \"PostmanRuntime/7.13.0\",\n",
    "    'Accept': \"*/*\",\n",
    "    'Cache-Control': \"no-cache\",\n",
    "    'Postman-Token': \"b47fc47a-a7f1-423a-ad45-468299ced83a,9c69c4b9-ab1b-420f-9653-0e40caded8af\",\n",
    "    'Host': \"m.land.naver.com\",\n",
    "    'cookie': \"nhn.realestate.article.rlet_type_cd=A01; nhn.realestate.article.trade_type_cd=\"\"\",\n",
    "    'accept-encoding': \"gzip, deflate\",\n",
    "    'Connection': \"keep-alive\",\n",
    "    'cache-control': \"no-cache\"\n",
    "    }\n",
    "\n",
    "response = requests.request(\"GET\", url, headers=headers, params=querystring)\n",
    "\n",
    "# print(response.text)"
   ]
  },
  {
   "cell_type": "code",
   "execution_count": null,
   "metadata": {},
   "outputs": [],
   "source": [
    "import pandas as pd \n",
    "import json\n",
    "\n",
    "df = pd.DataFrame.from_dict(data['body'])\n",
    "data = json.loads(response.text)"
   ]
  },
  {
   "cell_type": "code",
   "execution_count": null,
   "metadata": {},
   "outputs": [],
   "source": [
    "len(df)"
   ]
  },
  {
   "cell_type": "markdown",
   "metadata": {},
   "source": [
    "* https://m.land.naver.com/map/37.381382:127.1348:9:4113510500/APT/B1#mapFullList 의 결과"
   ]
  },
  {
   "cell_type": "code",
   "execution_count": null,
   "metadata": {},
   "outputs": [],
   "source": [
    "df.columns"
   ]
  },
  {
   "cell_type": "code",
   "execution_count": null,
   "metadata": {},
   "outputs": [],
   "source": [
    "df[['atclCfmYmd', 'atclFetrDesc', 'atclNm', 'atclNo']].head(10)"
   ]
  },
  {
   "cell_type": "code",
   "execution_count": null,
   "metadata": {},
   "outputs": [],
   "source": [
    "df.head(10)"
   ]
  },
  {
   "cell_type": "markdown",
   "metadata": {},
   "source": [
    "# 단지로 검색\n",
    "\n",
    "* atclNo\n",
    "* https://m.land.naver.com/article/info/1912051708"
   ]
  },
  {
   "cell_type": "code",
   "execution_count": null,
   "metadata": {},
   "outputs": [],
   "source": [
    "import requests\n",
    "\n",
    "url = \"https://new.land.naver.com/api/articles/complex/27578\"\n",
    "\n",
    "# querystring = {\"realEstateType\":\"APT%3AABYG%3AJGC\",\"tradeType\":\"A1%3AB1%3AB2%3AB3\",\"tag\":\"%3A%3A%3A%3A%3A%3A%3A%3A\",\"rentPriceMin\":\"0\",\"rentPriceMax\":\"900000000\",\"priceMin\":\"0\",\"priceMax\":\"900000000\",\"areaMin\":\"0\",\"areaMax\":\"900000000\",\"oldBuildYears\":\"\",\"recentlyBuildYears\":\"\",\"minHouseHoldCount\":\"\",\"maxHouseHoldCount\":\"\",\"showArticle\":\"false\",\"sameAddressGroup\":\"false\",\"minMaintenanceCost\":\"\",\"maxMaintenanceCost\":\"\",\"priceType\":\"RETAIL\",\"directions\":\"\",\"page\":\"1\",\"complexNo\":\"27578\",\"buildingNos\":\"\",\"areaNos\":\"\",\"type\":\"list\",\"order\":\"rank\"}\n",
    "querystring = {\"realEstateType\":\"APT%3AABYG%3AJGC\",\"tradeType\":\"A1%3AB1%3AB2%3AB3\",\"tag\":\"%3A%3A%3A%3A%3A%3A%3A%3A\",\"rentPriceMin\":\"0\",\"rentPriceMax\":\"900000000\",\"priceMin\":\"0\",\"priceMax\":\"900000000\",\"areaMin\":\"0\",\"areaMax\":\"900000000\",\"oldBuildYears\":\"\",\"recentlyBuildYears\":\"\",\"minHouseHoldCount\":\"\",\"maxHouseHoldCount\":\"\",\"showArticle\":\"false\",\"sameAddressGroup\":\"false\",\"minMaintenanceCost\":\"\",\"maxMaintenanceCost\":\"\",\"priceType\":\"RETAIL\",\"directions\":\"\",\"page\":\"1\",\"complexNo\":\"27578\",\"buildingNos\":\"\",\"areaNos\":\"\",\"type\":\"list\",\"order\":\"rank\"}\n",
    "\n",
    "headers = {\n",
    "    'User-Agent': \"PostmanRuntime/7.13.0\",\n",
    "    'Accept': \"*/*\",\n",
    "    'Cache-Control': \"no-cache\",\n",
    "    'Postman-Token': \"938b1778-5d3d-447e-b640-16ab269a4f17,57e8d359-4c6c-47ca-abad-2f35cf61e4be\",\n",
    "    'Host': \"new.land.naver.com\",\n",
    "    'cookie': \"nhn.realestate.article.rlet_type_cd=A01; nhn.realestate.article.trade_type_cd=\"\"\",\n",
    "    'accept-encoding': \"gzip, deflate\",\n",
    "    'Connection': \"keep-alive\",\n",
    "    'cache-control': \"no-cache\"\n",
    "    }\n",
    "\n",
    "response = requests.request(\"GET\", url, headers=headers, params=querystring)\n",
    "\n",
    "# print(response.text)"
   ]
  },
  {
   "cell_type": "code",
   "execution_count": null,
   "metadata": {},
   "outputs": [],
   "source": [
    "import re\n",
    "import numpy as np\n",
    "import pandas as pd\n",
    "import requests\n",
    "from datetime import datetime\n",
    "from bs4 import BeautifulSoup\n",
    "\n",
    "def get_naver_realasset(area_code):\n",
    "    url = 'http://land.naver.com/article/articleList.nhn?' \\\n",
    "        + 'rletTypeCd=A01&tradeTypeCd=A1&hscpTypeCd=A01%3AA03%3AA04' \\\n",
    "        + '&cortarNo=' + area_code\n",
    "\n",
    "    r = requests.get(url)\n",
    "    soup = BeautifulSoup(r.text, 'lxml')\n",
    "\n",
    "    table = soup.find('table')\n",
    "    trs = table.tbody.find_all('tr')\n",
    "    \n",
    "    value_list = []\n",
    "\n",
    "    # 거래, 종류, 확인일자, 매물명, 매물명, 면적(㎡), 층, 매물가(만원), 연락처\n",
    "    for tr in trs[::2]:\n",
    "        tds = tr.find_all('td')\n",
    "        cols = [' '.join(td.text.strip().split()) for td in tds]\n",
    "\n",
    "        if '_thumb_image' not in tds[3]['class']: # 현장확인 날짜와 이미지가 없는 행\n",
    "            cols.insert(3, '')\n",
    "\n",
    "        거래 = cols[0]\n",
    "        종류 = cols[1]\n",
    "        확인일자 = datetime.strptime(cols[2], '%y.%m.%d.')\n",
    "        현장확인 = cols[3]\n",
    "        매물명 = cols[4]\n",
    "        면적 = cols[5]\n",
    "        공급면적 = re.findall('공급면적(.*?)㎡', 면적)[0].replace(',', '')\n",
    "        전용면적 = re.findall('전용면적(.*?)㎡', 면적)[0].replace(',', '')\n",
    "        공급면적 = float(공급면적)\n",
    "        전용면적 = float(전용면적)\n",
    "        층 = cols[6]\n",
    "        매물가 = int(cols[7].replace(',', '')) \n",
    "        연락처 = cols[8]\n",
    "        \n",
    "        value_list.append([거래, 종류, 확인일자, 현장확인, 매물명, 공급면적, 전용면적, 층, 매물가, 연락처])\n",
    "        \n",
    "    cols = ['거래', '종류', '확인일자', '현장확인', '매물명', '공급면적', '전용면적', '층', '매물가', '연락처']\n",
    "    df = pd.DataFrame(value_list, columns=cols)\n",
    "    return df"
   ]
  },
  {
   "cell_type": "code",
   "execution_count": null,
   "metadata": {},
   "outputs": [],
   "source": [
    "df = get_naver_realasset('4146510300')"
   ]
  }
 ],
 "metadata": {
  "kernelspec": {
   "display_name": "Python 3",
   "language": "python",
   "name": "python3"
  },
  "language_info": {
   "codemirror_mode": {
    "name": "ipython",
    "version": 3
   },
   "file_extension": ".py",
   "mimetype": "text/x-python",
   "name": "python",
   "nbconvert_exporter": "python",
   "pygments_lexer": "ipython3",
   "version": "3.6.7"
  }
 },
 "nbformat": 4,
 "nbformat_minor": 2
}
