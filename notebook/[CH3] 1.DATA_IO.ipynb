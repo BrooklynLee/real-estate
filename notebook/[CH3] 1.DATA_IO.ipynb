{
 "cells": [
  {
   "cell_type": "markdown",
   "metadata": {},
   "source": [
    "* https://elasticsearch-dsl.readthedocs.io/en/latest/search_dsl.html\n",
    "* !pip install elasticsearch-py\n",
    "* !pip install elasticsearch-dsl"
   ]
  },
  {
   "cell_type": "markdown",
   "metadata": {},
   "source": [
    "# ES CREATE INDEX"
   ]
  },
  {
   "cell_type": "code",
   "execution_count": null,
   "metadata": {},
   "outputs": [],
   "source": [
    "!curl -X PUT \"localhost:9200/real-estate\" -H 'Content-Type: application/json' -d'\n",
    "{\n",
    "    \"settings\" : {\n",
    "        \"number_of_shards\" : 1\n",
    "    },\n",
    "    \"mappings\" : {\n",
    "        \"_doc\" : {\n",
    "            \"properties\": {\n",
    "                \"location\": {\n",
    "                    \"type\": \"geo_point\"\n",
    "                }\n",
    "            }\n",
    "        }\n",
    "    }\n",
    "}"
   ]
  },
  {
   "cell_type": "code",
   "execution_count": 2,
   "metadata": {},
   "outputs": [],
   "source": [
    "import sys\n",
    "sys.path.append('../src')\n",
    "from es_client import *"
   ]
  },
  {
   "cell_type": "markdown",
   "metadata": {},
   "source": [
    "# WRITE BULK"
   ]
  },
  {
   "cell_type": "code",
   "execution_count": 6,
   "metadata": {},
   "outputs": [
    {
     "name": "stdout",
     "output_type": "stream",
     "text": [
      "load /home/irteam/blog/real-estate/data/apt-trade/41131/201201.csv ...\n",
      "load /home/irteam/blog/real-estate/data/apt-trade/41131/201202.csv ...\n",
      "load /home/irteam/blog/real-estate/data/apt-trade/41131/201203.csv ...\n",
      "load /home/irteam/blog/real-estate/data/apt-trade/41131/201204.csv ...\n",
      "load /home/irteam/blog/real-estate/data/apt-trade/41131/201205.csv ...\n",
      "load /home/irteam/blog/real-estate/data/apt-trade/41131/201206.csv ...\n",
      "load /home/irteam/blog/real-estate/data/apt-trade/41131/201207.csv ...\n",
      "load /home/irteam/blog/real-estate/data/apt-trade/41131/201208.csv ...\n",
      "load /home/irteam/blog/real-estate/data/apt-trade/41131/201209.csv ...\n",
      "load /home/irteam/blog/real-estate/data/apt-trade/41131/201210.csv ...\n",
      "load /home/irteam/blog/real-estate/data/apt-trade/41131/201211.csv ...\n",
      "load /home/irteam/blog/real-estate/data/apt-trade/41131/201212.csv ...\n",
      "load /home/irteam/blog/real-estate/data/apt-trade/41131/201301.csv ...\n",
      "load /home/irteam/blog/real-estate/data/apt-trade/41131/201302.csv ...\n",
      "load /home/irteam/blog/real-estate/data/apt-trade/41131/201303.csv ...\n",
      "load /home/irteam/blog/real-estate/data/apt-trade/41131/201304.csv ...\n",
      "load /home/irteam/blog/real-estate/data/apt-trade/41131/201305.csv ...\n",
      "load /home/irteam/blog/real-estate/data/apt-trade/41131/201306.csv ...\n",
      "load /home/irteam/blog/real-estate/data/apt-trade/41131/201307.csv ...\n",
      "load /home/irteam/blog/real-estate/data/apt-trade/41131/201308.csv ...\n",
      "load /home/irteam/blog/real-estate/data/apt-trade/41131/201309.csv ...\n",
      "load /home/irteam/blog/real-estate/data/apt-trade/41131/201310.csv ...\n",
      "load /home/irteam/blog/real-estate/data/apt-trade/41131/201311.csv ...\n",
      "load /home/irteam/blog/real-estate/data/apt-trade/41131/201312.csv ...\n",
      "load /home/irteam/blog/real-estate/data/apt-trade/41131/201401.csv ...\n",
      "load /home/irteam/blog/real-estate/data/apt-trade/41131/201402.csv ...\n",
      "load /home/irteam/blog/real-estate/data/apt-trade/41131/201403.csv ...\n",
      "load /home/irteam/blog/real-estate/data/apt-trade/41131/201404.csv ...\n",
      "load /home/irteam/blog/real-estate/data/apt-trade/41131/201405.csv ...\n",
      "load /home/irteam/blog/real-estate/data/apt-trade/41131/201406.csv ...\n",
      "load /home/irteam/blog/real-estate/data/apt-trade/41131/201407.csv ...\n",
      "load /home/irteam/blog/real-estate/data/apt-trade/41131/201408.csv ...\n",
      "load /home/irteam/blog/real-estate/data/apt-trade/41131/201409.csv ...\n",
      "load /home/irteam/blog/real-estate/data/apt-trade/41131/201410.csv ...\n",
      "load /home/irteam/blog/real-estate/data/apt-trade/41131/201411.csv ...\n",
      "load /home/irteam/blog/real-estate/data/apt-trade/41131/201412.csv ...\n",
      "load /home/irteam/blog/real-estate/data/apt-trade/41131/201501.csv ...\n",
      "load /home/irteam/blog/real-estate/data/apt-trade/41131/201502.csv ...\n",
      "load /home/irteam/blog/real-estate/data/apt-trade/41131/201503.csv ...\n",
      "load /home/irteam/blog/real-estate/data/apt-trade/41131/201504.csv ...\n",
      "load /home/irteam/blog/real-estate/data/apt-trade/41131/201505.csv ...\n",
      "load /home/irteam/blog/real-estate/data/apt-trade/41131/201506.csv ...\n",
      "load /home/irteam/blog/real-estate/data/apt-trade/41131/201507.csv ...\n",
      "load /home/irteam/blog/real-estate/data/apt-trade/41131/201508.csv ...\n",
      "load /home/irteam/blog/real-estate/data/apt-trade/41131/201509.csv ...\n",
      "load /home/irteam/blog/real-estate/data/apt-trade/41131/201510.csv ...\n",
      "load /home/irteam/blog/real-estate/data/apt-trade/41131/201511.csv ...\n",
      "load /home/irteam/blog/real-estate/data/apt-trade/41131/201512.csv ...\n",
      "load /home/irteam/blog/real-estate/data/apt-trade/41131/201601.csv ...\n",
      "load /home/irteam/blog/real-estate/data/apt-trade/41131/201602.csv ...\n",
      "load /home/irteam/blog/real-estate/data/apt-trade/41131/201603.csv ...\n",
      "load /home/irteam/blog/real-estate/data/apt-trade/41131/201604.csv ...\n",
      "load /home/irteam/blog/real-estate/data/apt-trade/41131/201605.csv ...\n",
      "load /home/irteam/blog/real-estate/data/apt-trade/41131/201606.csv ...\n",
      "load /home/irteam/blog/real-estate/data/apt-trade/41131/201607.csv ...\n",
      "load /home/irteam/blog/real-estate/data/apt-trade/41131/201608.csv ...\n",
      "load /home/irteam/blog/real-estate/data/apt-trade/41131/201609.csv ...\n",
      "load /home/irteam/blog/real-estate/data/apt-trade/41131/201610.csv ...\n",
      "load /home/irteam/blog/real-estate/data/apt-trade/41131/201611.csv ...\n",
      "load /home/irteam/blog/real-estate/data/apt-trade/41131/201612.csv ...\n",
      "load /home/irteam/blog/real-estate/data/apt-trade/41131/201701.csv ...\n",
      "load /home/irteam/blog/real-estate/data/apt-trade/41131/201702.csv ...\n",
      "load /home/irteam/blog/real-estate/data/apt-trade/41131/201703.csv ...\n",
      "load /home/irteam/blog/real-estate/data/apt-trade/41131/201704.csv ...\n",
      "load /home/irteam/blog/real-estate/data/apt-trade/41131/201705.csv ...\n",
      "load /home/irteam/blog/real-estate/data/apt-trade/41131/201706.csv ...\n",
      "load /home/irteam/blog/real-estate/data/apt-trade/41131/201707.csv ...\n",
      "load /home/irteam/blog/real-estate/data/apt-trade/41131/201708.csv ...\n",
      "load /home/irteam/blog/real-estate/data/apt-trade/41131/201709.csv ...\n",
      "load /home/irteam/blog/real-estate/data/apt-trade/41131/201710.csv ...\n",
      "load /home/irteam/blog/real-estate/data/apt-trade/41131/201711.csv ...\n",
      "load /home/irteam/blog/real-estate/data/apt-trade/41131/201712.csv ...\n",
      "load /home/irteam/blog/real-estate/data/apt-trade/41131/201801.csv ...\n",
      "load /home/irteam/blog/real-estate/data/apt-trade/41131/201802.csv ...\n",
      "load /home/irteam/blog/real-estate/data/apt-trade/41131/201803.csv ...\n",
      "load /home/irteam/blog/real-estate/data/apt-trade/41131/201804.csv ...\n",
      "load /home/irteam/blog/real-estate/data/apt-trade/41131/201805.csv ...\n",
      "load /home/irteam/blog/real-estate/data/apt-trade/41131/201806.csv ...\n",
      "load /home/irteam/blog/real-estate/data/apt-trade/41131/201807.csv ...\n",
      "load /home/irteam/blog/real-estate/data/apt-trade/41131/201808.csv ...\n",
      "load /home/irteam/blog/real-estate/data/apt-trade/41131/201809.csv ...\n",
      "load /home/irteam/blog/real-estate/data/apt-trade/41131/201810.csv ...\n",
      "load /home/irteam/blog/real-estate/data/apt-trade/41131/201811.csv ...\n",
      "load /home/irteam/blog/real-estate/data/apt-trade/41131/201812.csv ...\n",
      "load /home/irteam/blog/real-estate/data/apt-trade/41131/201901.csv ...\n",
      "load /home/irteam/blog/real-estate/data/apt-trade/41131/201902.csv ...\n",
      "load /home/irteam/blog/real-estate/data/apt-trade/41131/201903.csv ...\n",
      "load /home/irteam/blog/real-estate/data/apt-trade/41131/201904.csv ...\n",
      "load /home/irteam/blog/real-estate/data/apt-trade/41131/201905.csv ...\n",
      "# of items : 7069\n",
      "(7069, [])\n"
     ]
    }
   ],
   "source": [
    "df =  load_data('41131', 'trade')\n",
    "# convert pandas dataframe to list of dict\n",
    "items = df.to_dict('records')\n",
    "print ('# of items : %s' % (len(items)))\n",
    "# data = [item.update({'timestamp': datetime.now()}) for item in items]\n",
    "docs = []\n",
    "for item in items:\n",
    "    docs.append({\n",
    "        '_index': 'real-estate-trade',\n",
    "        '_type': 'doc',\n",
    "        '_id': datetime.now(),\n",
    "        '_source': item\n",
    "    })\n",
    "es = ESClient()\n",
    "es._bulk(docs)"
   ]
  },
  {
   "cell_type": "code",
   "execution_count": 5,
   "metadata": {},
   "outputs": [
    {
     "name": "stdout",
     "output_type": "stream",
     "text": [
      "# of items : 12364\n",
      "(12364, [])\n"
     ]
    }
   ],
   "source": [
    "df =  load_data('41131', 'rent')\n",
    "# convert pandas dataframe to list of dict\n",
    "items = df.to_dict('records')\n",
    "print ('# of items : %s' % (len(items)))\n",
    "# data = [item.update({'timestamp': datetime.now()}) for item in items]\n",
    "docs = []\n",
    "for item in items:\n",
    "    docs.append({\n",
    "        '_index': 'real-estate-rent',\n",
    "        '_type': 'doc',\n",
    "        '_id': datetime.now(),\n",
    "        '_source': item\n",
    "    })\n",
    "es = ESClient()\n",
    "es._bulk(docs)"
   ]
  },
  {
   "cell_type": "markdown",
   "metadata": {},
   "source": [
    "# READ "
   ]
  },
  {
   "cell_type": "code",
   "execution_count": 2,
   "metadata": {},
   "outputs": [
    {
     "name": "stdout",
     "output_type": "stream",
     "text": [
      "     date    거래금액  건축년도     년  법정동    아파트  월      일     전용면적    지번   지역코드  층\n",
      "0  201209  34,500  2003  2012  수진동  삼정그린뷰  9  11~20  84.9274  4678  41131  5\n",
      "1  201209  32,550  2003  2012  수진동  삼정그린뷰  9   1~10  84.9274  4678  41131  4\n",
      "2  201209  34,500  2003  2012  수진동  삼정그린뷰  9  11~20  84.9274  4678  41131  5\n",
      "3  201209  32,550  2003  2012  수진동  삼정그린뷰  9   1~10  84.9274  4678  41131  4\n"
     ]
    }
   ],
   "source": [
    "import pandas as pd\n",
    "es = ESClient()\n",
    "\n",
    "query = {\n",
    "    \"query\": {\n",
    "        \"match\": { \n",
    "            \"아파트\": \"삼정그린뷰\"}\n",
    "    }\n",
    "}\n",
    "\n",
    "query = {\n",
    "  \"query\": {\n",
    "    \"bool\": {\n",
    "      \"must\": [\n",
    "        {\n",
    "          \"match\": {\n",
    "            \"아파트\": \"삼정그린뷰\"\n",
    "          }\n",
    "        },\n",
    "        {\n",
    "          \"match\": {\n",
    "            \"date\": \"201209\"\n",
    "          }\n",
    "        }\n",
    "      ]\n",
    "    }\n",
    "  }\n",
    "}\n",
    "\n",
    "results = es._query('real-estate', query)\n",
    "items = results['hits']['hits']\n",
    "df = pd.DataFrame([x['_source'] for x in items])\n",
    "print (df)\n",
    "# es._query('real-estate', {\"query\": {\"match_all\": {}}})"
   ]
  },
  {
   "cell_type": "markdown",
   "metadata": {},
   "source": [
    "# ES_Client에 검색 추가\n",
    "\n",
    "* es._search_by_date\n",
    "* es._search_by_aptname\n",
    "* es._search_by_rcode"
   ]
  },
  {
   "cell_type": "code",
   "execution_count": 3,
   "metadata": {},
   "outputs": [
    {
     "name": "stdout",
     "output_type": "stream",
     "text": [
      "     date    거래금액  건축년도     년  법정동     아파트  월      일   전용면적    지번   지역코드   층\n",
      "0  201209  41,000  1986  2012  신흥동    주공저층  9   1~10  83.42    10  41131   2\n",
      "1  201209  34,800  1986  2012  신흥동    주공고층  9  11~20  64.62    10  41131  15\n",
      "2  201209  26,000  1996  2012  수진동      삼부  9   1~10  59.76  4663  41131   7\n",
      "3  201209  32,300  2012  2012  단대동  단대푸르지오  9   1~10  59.97   100  41131   1\n",
      "4  201209  33,200  2012  2012  단대동  단대푸르지오  9  11~20  59.72   100  41131   1\n",
      "5  201209  33,200  2012  2012  단대동  단대푸르지오  9  11~20  59.85   100  41131   1\n",
      "6  201209  33,600  2012  2012  단대동  단대푸르지오  9  21~30  59.80   100  41131   2\n",
      "7  201209  45,000  1986  2012  신흥동    주공고층  9  11~20  84.15    10  41131   4\n",
      "8  201209  44,800  2012  2012  단대동  단대푸르지오  9  21~30  84.70   100  41131   2\n",
      "9  201209  43,000  1986  2012  신흥동    주공고층  9  11~20  84.15    10  41131   1\n"
     ]
    }
   ],
   "source": [
    "df = es._search_by_date('real-estate', \"201209\") \n",
    "print (df)"
   ]
  },
  {
   "cell_type": "code",
   "execution_count": 5,
   "metadata": {},
   "outputs": [
    {
     "name": "stdout",
     "output_type": "stream",
     "text": [
      "     date    거래금액  건축년도     년  법정동     아파트   월      일   전용면적   지번   지역코드   층\n",
      "0  201209  47,500  2012  2012  단대동  단대푸르지오   9   1~10  84.70  100  41131   9\n",
      "1  201209  33,200  2012  2012  단대동  단대푸르지오   9   1~10  59.72  100  41131   1\n",
      "2  201209  32,300  2012  2012  단대동  단대푸르지오   9  11~20  59.97  100  41131   1\n",
      "3  201209  44,800  2012  2012  단대동  단대푸르지오   9  21~30  84.70  100  41131   2\n",
      "4  201210  47,500  2012  2012  단대동  단대푸르지오  10   1~10  84.70  100  41131  15\n",
      "5  201305  44,800  2012  2013  단대동  단대푸르지오   5   1~10  84.74  100  41131   2\n",
      "6  201306  43,900  2012  2013  단대동  단대푸르지오   6  11~20  84.70  100  41131   1\n",
      "7  201307  43,900  2012  2013  단대동  단대푸르지오   7   1~10  84.70  100  41131   1\n",
      "8  201309  43,500  2012  2013  단대동  단대푸르지오   9   1~10  84.74  100  41131   2\n",
      "9  201309  44,800  2012  2013  단대동  단대푸르지오   9  21~30  84.74  100  41131   2\n"
     ]
    }
   ],
   "source": [
    "df = es._search_by_aptname('real-estate', \"단대푸르지오\") \n",
    "print (df)"
   ]
  },
  {
   "cell_type": "code",
   "execution_count": 6,
   "metadata": {},
   "outputs": [
    {
     "name": "stdout",
     "output_type": "stream",
     "text": [
      "     date    거래금액  건축년도     년  법정동        아파트  월      일     전용면적      지번  \\\n",
      "0  201201  23,500  1986  2012  신흥동        통보8  1   1~10  67.5000    89-1   \n",
      "1  201201  33,500  1993  2012  신흥동         두산  1  11~20  84.4700    2024   \n",
      "2  201201  29,800  2005  2012  태평동    낙원스카이뷰2  1  11~20  84.8400    6146   \n",
      "3  201201  28,500  2006  2012  수진동       밀란체2  1  11~20  84.8334    4002   \n",
      "4  201201  28,800  1996  2012  수진동         삼부  1  21~31  59.7600    4663   \n",
      "5  201201  11,700  1991  2012  단대동       선경논골  1  21~31  34.0500       6   \n",
      "6  201202  25,400  2007  2012  신흥동       셀레스빌  2  11~20  76.8760   125-2   \n",
      "7  201202  36,900  1986  2012  신흥동       주공고층  2  11~20  61.5200      10   \n",
      "8  201202  25,000  1990  2012  신흥동         한신  2  21~29  60.4800  2463-1   \n",
      "9  201202  24,600  2006  2012  신흥동  삼부르네상스파크1  2  21~29  72.5800     179   \n",
      "\n",
      "    지역코드   층  \n",
      "0  41131   1  \n",
      "1  41131  12  \n",
      "2  41131  14  \n",
      "3  41131   4  \n",
      "4  41131  12  \n",
      "5  41131  10  \n",
      "6  41131  13  \n",
      "7  41131   7  \n",
      "8  41131  12  \n",
      "9  41131   4  \n"
     ]
    }
   ],
   "source": [
    "df = es._search_by_rcode('real-estate', 41131) \n",
    "print (df)"
   ]
  },
  {
   "cell_type": "markdown",
   "metadata": {},
   "source": [
    "# Multi Match Query"
   ]
  },
  {
   "cell_type": "code",
   "execution_count": 6,
   "metadata": {},
   "outputs": [
    {
     "name": "stdout",
     "output_type": "stream",
     "text": [
      "     date    거래금액  건축년도     년  법정동     아파트  월      일   전용면적   지번   지역코드  층\n",
      "0  201209  47,500  2012  2012  단대동  단대푸르지오  9   1~10  84.70  100  41131  9\n",
      "1  201209  33,200  2012  2012  단대동  단대푸르지오  9   1~10  59.72  100  41131  1\n",
      "2  201209  32,300  2012  2012  단대동  단대푸르지오  9  11~20  59.97  100  41131  1\n",
      "3  201209  44,800  2012  2012  단대동  단대푸르지오  9  21~30  84.70  100  41131  2\n",
      "4  201209  33,200  2012  2012  단대동  단대푸르지오  9   1~10  59.72  100  41131  1\n",
      "5  201209  32,300  2012  2012  단대동  단대푸르지오  9   1~10  59.97  100  41131  1\n",
      "6  201209  33,200  2012  2012  단대동  단대푸르지오  9  11~20  59.85  100  41131  1\n",
      "7  201209  35,100  2012  2012  단대동  단대푸르지오  9  11~20  59.72  100  41131  4\n",
      "8  201209  33,600  2012  2012  단대동  단대푸르지오  9   1~10  59.72  100  41131  2\n",
      "9  201209  44,800  2012  2012  단대동  단대푸르지오  9  11~20  84.87  100  41131  2\n"
     ]
    }
   ],
   "source": [
    "from elasticsearch_dsl import Q\n",
    "q = Q('bool', must=[Q('match', 아파트='단대푸르지오'), Q('match', date='201209')]) \n",
    "df = es._search_by_query('real-estate', q) \n",
    "print (df)"
   ]
  },
  {
   "cell_type": "code",
   "execution_count": null,
   "metadata": {},
   "outputs": [],
   "source": []
  }
 ],
 "metadata": {
  "kernelspec": {
   "display_name": "Python 3",
   "language": "python",
   "name": "python3"
  },
  "language_info": {
   "codemirror_mode": {
    "name": "ipython",
    "version": 3
   },
   "file_extension": ".py",
   "mimetype": "text/x-python",
   "name": "python",
   "nbconvert_exporter": "python",
   "pygments_lexer": "ipython3",
   "version": "3.6.7"
  }
 },
 "nbformat": 4,
 "nbformat_minor": 2
}
